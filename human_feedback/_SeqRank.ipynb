{
 "cells": [
  {
   "cell_type": "markdown",
   "metadata": {},
   "source": [
    "# SeqRank"
   ]
  },
  {
   "cell_type": "code",
   "execution_count": null,
   "metadata": {},
   "outputs": [],
   "source": [
    "import os\n",
    "import numpy as np\n",
    "from IPython.display import Image\n",
    "from IPython.display import display\n",
    "import time\n",
    "path = './metaworld_button-press-topdown-v2'\n",
    "with open(path + '/_frame_idx.txt', 'r') as f:\n",
    "    index = f.readlines()\n",
    "index = [int(i) for i in index]\n",
    "print(index)"
   ]
  },
  {
   "cell_type": "markdown",
   "metadata": {},
   "source": [
    "# Human feedback\n",
    "\n",
    "- If you prefer the segment above (press 1), equally prefer (press 2), or prefer the segment below (press 3)\n",
    "\n",
    "- If you want to skip the segment pair (press 'n')\n",
    "\n",
    "- If you want to quit the program (input 'quit')"
   ]
  },
  {
   "cell_type": "code",
   "execution_count": null,
   "metadata": {},
   "outputs": [],
   "source": [
    "kth = 0\n",
    "from IPython.display import clear_output\n",
    "left_idx = kth * 100\n",
    "right_idx = kth * 100 + 1\n",
    "feedback = 0\n",
    "while feedback < 100:\n",
    "    clear_output()\n",
    "    print(f\"{feedback}th among total {100} feedbacks\")\n",
    "    print(index[left_idx], index[right_idx])\n",
    "    try:\n",
    "        left = path + f'/render_{index[left_idx]}.gif'\n",
    "        right = path + f'/render_{index[right_idx]}.gif'\n",
    "        display(Image(filename=left))\n",
    "        time.sleep(0.1)\n",
    "        print('vs')\n",
    "        display(Image(filename=right))\n",
    "        # scanf int\n",
    "        select = input('select')\n",
    "        if select == 'quit':\n",
    "            0 / 0\n",
    "        elif select == 'n':\n",
    "            right_idx += 1\n",
    "            continue\n",
    "        else:\n",
    "            feedback += 1\n",
    "            left_idx = right_idx\n",
    "            right_idx += 1\n",
    "        with open(path + f'/_seq_label_{kth}.txt', 'a') as f:\n",
    "            f.write(f'{index[left_idx]} {index[right_idx]} {select}\\n')\n",
    "    except:\n",
    "        0 / 0\n",
    "        continue"
   ]
  }
 ],
 "metadata": {
  "kernelspec": {
   "display_name": "RL",
   "language": "python",
   "name": "python3"
  },
  "language_info": {
   "codemirror_mode": {
    "name": "ipython",
    "version": 3
   },
   "file_extension": ".py",
   "mimetype": "text/x-python",
   "name": "python",
   "nbconvert_exporter": "python",
   "pygments_lexer": "ipython3",
   "version": "3.9.18"
  },
  "orig_nbformat": 4
 },
 "nbformat": 4,
 "nbformat_minor": 2
}
